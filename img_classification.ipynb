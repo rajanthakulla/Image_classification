{
 "cells": [
  {
   "cell_type": "markdown",
   "id": "1d6f7fd9",
   "metadata": {},
   "source": [
    "<p style=\"font-size: 20px;\"text-align: justify\">1. Implement convolutional neural network (CNN) models with following specifications using TensorFlow for classifying the MNIST dataset. Train the model on the MNIST training set and evaluate its performance on the test set. Write modularized code and call it 3 times and compute the mean of test accuracy for each of the following 3 Sequential models.</p>"
   ]
  },
  {
   "cell_type": "code",
   "execution_count": null,
   "id": "84e3f7b6",
   "metadata": {},
   "outputs": [],
   "source": []
  },
  {
   "cell_type": "markdown",
   "id": "99407b02",
   "metadata": {},
   "source": [
    "<p style=\"font-size: 15px;\"text-align: justify;\"> a. Model-1: Add a convolution layer with 32 3 × 3 filters with stride 2 and relu activation. Add a maxpooling layer with kernel size 2 × 2 with stride 1. Add a convolution layer with 16 4 × 4 filters with stride 2 and relu activation. Add a maxpooling layer with kernel size 4 × 4 with stride 2. Flatten the output and add a fully connected layer with 8 neurons with relu activation. Add a fully connected layer with 10 neurons and softmax activation. Use Adam optimizer with batch size 128, learning rate 0.01 and epochs set to 5.</p>"
   ]
  },
  {
   "cell_type": "code",
   "execution_count": null,
   "id": "fee650ac",
   "metadata": {},
   "outputs": [],
   "source": []
  },
  {
   "cell_type": "markdown",
   "id": "02728bec",
   "metadata": {},
   "source": [
    "<p style=\"font-size: 15px;\"text-align: justify;\">b. Model-2: Add a convolution layer with 32 3 × 3 filters with stride 2 and relu activation. Add an average pooling layer with kernel size 2 × 2 with stride 1. Add a convolution layer with 16 4 × 4 filters with stride 2 and relu activation. Add an average pooling layer with kernel size 4 × 4 with stride 2. Flatten the output and add a fully connected layer with 8 neurons with relu activation. Add a fully connected layer with 10 neurons and softmax activation. Use Adam optimizer with batch size 128, learning rate 0.01 and epochs set to 5.</p>"
   ]
  },
  {
   "cell_type": "code",
   "execution_count": null,
   "id": "3d807fb4",
   "metadata": {},
   "outputs": [],
   "source": []
  },
  {
   "cell_type": "markdown",
   "id": "8c7550d9",
   "metadata": {},
   "source": [
    "<p style=\"font-size: 15px;\"text-align: justify;\">c. Model-3: Add a convolution layer with 32 3 × 3 filters with stride 2, relu activation and same padding. Add a maxpooling layer with kernel size 2 × 2 with stride 1. Add a convolution layer with 16 4 × 4 filters with stride 2 and relu activation. Add a maxpooling layer with kernel size 4 × 4 with stride 2. Flatten the output and add a fully connected layer with 8 neurons with relu activation. Add a fully connected layer with 10 neurons and softmax activation. Use Adam optimizer with batch size 128, learning rate 0.01 and epochs set to 5.</p>"
   ]
  },
  {
   "cell_type": "code",
   "execution_count": null,
   "id": "8d928131",
   "metadata": {},
   "outputs": [],
   "source": []
  },
  {
   "cell_type": "markdown",
   "id": "34f3f0a1",
   "metadata": {},
   "source": [
    "<p style=\"font-size: 15px;\"text-align: justify;\">d. Model-4: Add a convolution layer with 32 3 × 3 filters with stride 2, relu activation and zero padding. Add a maxpooling layer with kernel size 2 × 2 with stride 1. Add a convolution layer with 16 4 × 4 filters with stride 2, relu activation and zero padding. Add a maxpooling layer with kernel size 4 × 4 with stride 2. Flatten the output and add a fully connected layer with 8 neurons with relu activation. Add a fully connected layer with 10 neurons and softmax -activation. Use Adam optimizer with batch size 128, learning rate 0.01 and epochs set to 5.</p>"
   ]
  },
  {
   "cell_type": "code",
   "execution_count": null,
   "id": "d6e71043",
   "metadata": {},
   "outputs": [],
   "source": []
  },
  {
   "cell_type": "markdown",
   "id": "45930995",
   "metadata": {},
   "source": [
    "<p style=\"font-size: 20px;\"text-align: justify;\">2. What have you observed from Question 1. Rewrite the Question-1 using kerastuner to select the best hyperparameters.</p>"
   ]
  },
  {
   "cell_type": "code",
   "execution_count": null,
   "id": "01f7d606",
   "metadata": {},
   "outputs": [],
   "source": []
  }
 ],
 "metadata": {
  "kernelspec": {
   "display_name": "Python 3 (ipykernel)",
   "language": "python",
   "name": "python3"
  },
  "language_info": {
   "codemirror_mode": {
    "name": "ipython",
    "version": 3
   },
   "file_extension": ".py",
   "mimetype": "text/x-python",
   "name": "python",
   "nbconvert_exporter": "python",
   "pygments_lexer": "ipython3",
   "version": "3.9.7"
  }
 },
 "nbformat": 4,
 "nbformat_minor": 5
}
